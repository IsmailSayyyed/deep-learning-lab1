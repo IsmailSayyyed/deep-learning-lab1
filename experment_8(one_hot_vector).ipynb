{
  "nbformat": 4,
  "nbformat_minor": 0,
  "metadata": {
    "colab": {
      "provenance": [],
      "authorship_tag": "ABX9TyMRXmhZSpxG7wjTxKio4WpE",
      "include_colab_link": true
    },
    "kernelspec": {
      "name": "python3",
      "display_name": "Python 3"
    },
    "language_info": {
      "name": "python"
    }
  },
  "cells": [
    {
      "cell_type": "markdown",
      "metadata": {
        "id": "view-in-github",
        "colab_type": "text"
      },
      "source": [
        "<a href=\"https://colab.research.google.com/github/IsmailSayyyed/deep-learning-lab1/blob/main/experment_8(one_hot_vector).ipynb\" target=\"_parent\"><img src=\"https://colab.research.google.com/assets/colab-badge.svg\" alt=\"Open In Colab\"/></a>"
      ]
    },
    {
      "cell_type": "code",
      "execution_count": null,
      "metadata": {
        "colab": {
          "base_uri": "https://localhost:8080/"
        },
        "id": "Koy7e7UWaiKF",
        "outputId": "8b476dd3-be65-4eab-9c35-69035b7697c1"
      },
      "outputs": [
        {
          "output_type": "stream",
          "name": "stdout",
          "text": [
            "{'Jupiter': 1, 'has': 2, '79': 3, 'known': 4, 'moons.': 5, 'Neptune': 6, '14': 7, 'confirmed': 8, 'moons!': 9}\n",
            "[(0, 'Jupiter'), (1, 'has'), (2, '79'), (3, 'known'), (4, 'moons.')]\n",
            "[(0, 'Neptune'), (1, 'has'), (2, '14'), (3, 'confirmed'), (4, 'moons!')]\n"
          ]
        }
      ],
      "source": [
        "\n",
        "import numpy as np\n",
        "\n",
        "samples = {'Jupiter has 79 known moons.', 'Neptune has 14 confirmed moons!'}\n",
        "token_index = {}\n",
        "counter = 0\n",
        "\n",
        "for sample in samples:\n",
        "    for considered_word in sample.split():\n",
        "        if considered_word not in token_index:\n",
        "            token_index[considered_word] = counter + 1\n",
        "            counter = counter + 1\n",
        "\n",
        "print(token_index)\n",
        "\n",
        "max_length = 6\n",
        "results = np.zeros(shape=(len(samples), max_length, max(token_index.values()) + 1))\n",
        "\n",
        "for i, sample in enumerate(samples):\n",
        "    for j, considered_word in enumerate(sample.split()):\n",
        "        index = token_index.get(considered_word)\n",
        "        results[i, j, index] = 1.\n",
        "\n",
        "    print(list(enumerate(sample.split())))\n"
      ]
    }
  ]
}